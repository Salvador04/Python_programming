{
  "nbformat": 4,
  "nbformat_minor": 0,
  "metadata": {
    "kernelspec": {
      "display_name": "Python 3",
      "language": "python",
      "name": "python3"
    },
    "language_info": {
      "codemirror_mode": {
        "name": "ipython",
        "version": 3
      },
      "file_extension": ".py",
      "mimetype": "text/x-python",
      "name": "python",
      "nbconvert_exporter": "python",
      "pygments_lexer": "ipython3",
      "version": "3.7.6"
    },
    "colab": {
      "name": "PracticaBioPython.ipynb",
      "provenance": []
    }
  },
  "cells": [
    {
      "cell_type": "markdown",
      "metadata": {
        "id": "qwcRdjMZklZx",
        "colab_type": "text"
      },
      "source": [
        "# Práctica de Biopython\n",
        "\n",
        "### Equipo: Escobedo Muñoz, Gonzalez Juarez, Arrieta Donato, Ordaz Arias, Rodriguez Vazquez\n",
        "\n",
        "El coronavirus SARS-CoV-2 tiene una proteína llamada spike (S), que es una glicoproteína tipo I que se encuentra en la superficie del virus y puede hacer contacto con la célula hospedera. Nos interesa conocer qué tan parecida es esta secuencia con el virus SARS-CoV. Ambos coronavirus, SARS-CoV-2 y SARS-CoV están relacionados y pertenecen al subgénero sarbecvirus de los Coronaviridae, entonces se espera que dichos virus sean muy parecidos.\n",
        "\n",
        "Por otro lado, el gen ACE2 (Angiotensin-converting enzyme 2) es un gen del humano que ha llamado la atención recientemente porque promueve la entrada de SARS-CoV-2 en las células. Realizando una simulación estructural es posible identificar el contacto de ACE2 con la proteína S. De acuerdo con la literatura (https://www.ncbi.nlm.nih.gov/pmc/articles/PMC7102515/) los aminoácidos que hacen contacto con SARS-CoV son: Y442, L472, N479, D480, T487, Y491. Y los que hacen contacto con SARS-CoV-2 son: L455, F486, Q493, S494, N501 and Y505."
      ]
    },
    {
      "cell_type": "markdown",
      "metadata": {
        "id": "dTZ17PB0klZ4",
        "colab_type": "text"
      },
      "source": [
        "## Obtener la secuencia de la proteína S del coronavirus SARS-CoV-2"
      ]
    },
    {
      "cell_type": "code",
      "metadata": {
        "id": "OijI2QFyklaE",
        "colab_type": "code",
        "colab": {},
        "outputId": "b4442e39-a773-4517-ef3b-c8fb45a1ec5e"
      },
      "source": [
        "# Crea un diccionario donde se guarda la informacion del archivo fasta.\n",
        "fasta_info = {}\n",
        "\n",
        "# Abre el archivo fasta que contiene las secuencias proteicas de ambos coronavirus.\n",
        "with open('./sequence.fasta', 'r') as file_handler:\n",
        "\tfor fasta_sequence in file_handler:\n",
        "\n",
        "\t\t# Obtiene el nombre de la secuencia.\n",
        "\t\tif fasta_sequence.startswith(\">\"):\n",
        "\t\t\tname = fasta_sequence\n",
        "\t\t\tsequence = \"\"\n",
        "\t\t\tcontinue\n",
        "            \n",
        "\t\t# Concatena las lineas de la misma secuencia.\n",
        "\t\tfasta_sequence = fasta_sequence.replace(\"\\n\", \"\")\n",
        "\t\tsequence = sequence + fasta_sequence.upper()\n",
        "\t\tfasta_info[name] = sequence\n",
        "\n",
        "# Almacena solo las secuencias en una lista.\n",
        "sequences = []\n",
        "for keys, value in fasta_info.items():\n",
        "\tsequences.append(value)\n",
        "\n",
        "## Imprime solo la secuencia de la proteina S de SARS-CoV-2\n",
        "print(sequences[0])"
      ],
      "execution_count": 0,
      "outputs": [
        {
          "output_type": "stream",
          "text": [
            "MFVFLVLLPLVSSQCVNLTTRTQLPPAYTNSFTRGVYYPDKVFRSSVLHSTQDLFLPFFSNVTWFHAIHVSGTNGTKRFDNPVLPFNDGVYFASTEKSNIIRGWIFGTTLDSKTQSLLIVNNATNVVIKVCEFQFCNDPFLGVYYHKNNKSWMESEFRVYSSANNCTFEYVSQPFLMDLEGKQGNFKNLREFVFKNIDGYFKIYSKHTPINLVRDLPQGFSALEPLVDLPIGINITRFQTLLALHRSYLTPGDSSSGWTAGAAAYYVGYLQPRTFLLKYNENGTITDAVDCALDPLSETKCTLKSFTVEKGIYQTSNFRVQPTESIVRFPNITNLCPFGEVFNATRFASVYAWNRKRISNCVADYSVLYNSASFSTFKCYGVSPTKLNDLCFTNVYADSFVIRGDEVRQIAPGQTGKIADYNYKLPDDFTGCVIAWNSNNLDSKVGGNYNYLYRLFRKSNLKPFERDISTEIYQAGSTPCNGVEGFNCYFPLQSYGFQPTNGVGYQPYRVVVLSFELLHAPATVCGPKKSTNLVKNKCVNFNFNGLTGTGVLTESNKKFLPFQQFGRDIADTTDAVRDPQTLEILDITPCSFGGVSVITPGTNTSNQVAVLYQDVNCTEVPVAIHADQLTPTWRVYSTGSNVFQTRAGCLIGAEHVNNSYECDIPIGAGICASYQTQTNSPRRARSVASQSIIAYTMSLGAENSVAYSNNSIAIPTNFTISVTTEILPVSMTKTSVDCTMYICGDSTECSNLLLQYGSFCTQLNRALTGIAVEQDKNTQEVFAQVKQIYKTPPIKDFGGFNFSQILPDPSKPSKRSFIEDLLFNKVTLADAGFIKQYGDCLGDIAARDLICAQKFNGLTVLPPLLTDEMIAQYTSALLAGTITSGWTFGAGAALQIPFAMQMAYRFNGIGVTQNVLYENQKLIANQFNSAIGKIQDSLSSTASALGKLQDVVNQNAQALNTLVKQLSSNFGAISSVLNDILSRLDKVEAEVQIDRLITGRLQSLQTYVTQQLIRAAEIRASANLAATKMSECVLGQSKRVDFCGKGYHLMSFPQSAPHGVVFLHVTYVPAQEKNFTTAPAICHDGKAHFPREGVFVSNGTHWFVTQRNFYEPQIITTDNTFVSGNCDVVIGIVNNTVYDPLQPELDSFKEELDKYFKNHTSPDVDLGDISGINASVVNIQKEIDRLNEVAKNLNESLIDLQELGKYEQYIKWPWYIWLGFIAGLIAIVMVTIMLCCMTSCCSCLKGCCSCGSCCKFDEDDSEPVLKGVKLHYT\n"
          ],
          "name": "stdout"
        }
      ]
    },
    {
      "cell_type": "markdown",
      "metadata": {
        "id": "9S9uCXvnklbK",
        "colab_type": "text"
      },
      "source": [
        "## Obtener la proteína S del coronavirus SARS-CoV (NP_828851.1)"
      ]
    },
    {
      "cell_type": "code",
      "metadata": {
        "id": "b9oD_c9-klbP",
        "colab_type": "code",
        "colab": {},
        "outputId": "bce1b6eb-faa6-447d-cf68-9c2a66682361"
      },
      "source": [
        "## Imprime solo la secuencia de la proteina S de SARS-CoV-2\n",
        "print(sequences[1])"
      ],
      "execution_count": 0,
      "outputs": [
        {
          "output_type": "stream",
          "text": [
            "MFIFLLFLTLTSGSDLDRCTTFDDVQAPNYTQHTSSMRGVYYPDEIFRSDTLYLTQDLFLPFYSNVTGFHTINHTFGNPVIPFKDGIYFAATEKSNVVRGWVFGSTMNNKSQSVIIINNSTNVVIRACNFELCDNPFFAVSKPMGTQTHTMIFDNAFNCTFEYISDAFSLDVSEKSGNFKHLREFVFKNKDGFLYVYKGYQPIDVVRDLPSGFNTLKPIFKLPLGINITNFRAILTAFSPAQDIWGTSAAAYFVGYLKPTTFMLKYDENGTITDAVDCSQNPLAELKCSVKSFEIDKGIYQTSNFRVVPSGDVVRFPNITNLCPFGEVFNATKFPSVYAWERKKISNCVADYSVLYNSTFFSTFKCYGVSATKLNDLCFSNVYADSFVVKGDDVRQIAPGQTGVIADYNYKLPDDFMGCVLAWNTRNIDATSTGNYNYKYRYLRHGKLRPFERDISNVPFSPDGKPCTPPALNCYWPLNDYGFYTTTGIGYQPYRVVVLSFELLNAPATVCGPKLSTDLIKNQCVNFNFNGLTGTGVLTPSSKRFQPFQQFGRDVSDFTDSVRDPKTSEILDISPCAFGGVSVITPGTNASSEVAVLYQDVNCTDVSTAIHADQLTPAWRIYSTGNNVFQTQAGCLIGAEHVDTSYECDIPIGAGICASYHTVSLLRSTSQKSIVAYTMSLGADSSIAYSNNTIAIPTNFSISITTEVMPVSMAKTSVDCNMYICGDSTECANLLLQYGSFCTQLNRALSGIAAEQDRNTREVFAQVKQMYKTPTLKYFGGFNFSQILPDPLKPTKRSFIEDLLFNKVTLADAGFMKQYGECLGDINARDLICAQKFNGLTVLPPLLTDDMIAAYTAALVSGTATAGWTFGAGAALQIPFAMQMAYRFNGIGVTQNVLYENQKQIANQFNKAISQIQESLTTTSTALGKLQDVVNQNAQALNTLVKQLSSNFGAISSVLNDILSRLDKVEAEVQIDRLITGRLQSLQTYVTQQLIRAAEIRASANLAATKMSECVLGQSKRVDFCGKGYHLMSFPQAAPHGVVFLHVTYVPSQERNFTTAPAICHEGKAYFPREGVFVFNGTSWFITQRNFFSPQIITTDNTFVSGNCDVVIGIINNTVYDPLQPELDSFKEELDKYFKNHTSPDVDLGDISGINASVVNIQKEIDRLNEVAKNLNESLIDLQELGKYEQYIKWPWYVWLGFIAGLIAIVMVTILLCCMTSCCSCLKGACSCGSCCKFDEDDSEPVLKGVKLHYT\n"
          ],
          "name": "stdout"
        }
      ]
    },
    {
      "cell_type": "markdown",
      "metadata": {
        "id": "CAmhOU7Aklbo",
        "colab_type": "text"
      },
      "source": [
        "## Realizar el alineamiento de ambas proteínas"
      ]
    },
    {
      "cell_type": "code",
      "metadata": {
        "id": "nYd8QNGsklbq",
        "colab_type": "code",
        "colab": {},
        "outputId": "b1b0be2f-aa19-4c40-ec02-3d2e7c59a0f8"
      },
      "source": [
        "# Importa la libreria para hacer el alineamiento usando Clustal.\n",
        "from Bio.Align.Applications import ClustalOmegaCommandline\n",
        "\n",
        "# Genera el comando para generar el alineamiento.\n",
        "in_file = './sequence.fasta'\n",
        "out_file = './output_file.fasta'\n",
        "clustalomega_cline = ClustalOmegaCommandline(infile=in_file, outfile=out_file, verbose=True, auto=True)\n",
        "print(clustalomega_cline)"
      ],
      "execution_count": 0,
      "outputs": [
        {
          "output_type": "stream",
          "text": [
            "clustalo -i ./sequence.fasta -o ./output_file.fasta --auto -v\n"
          ],
          "name": "stdout"
        }
      ]
    },
    {
      "cell_type": "code",
      "metadata": {
        "id": "WOw2lkCJkleI",
        "colab_type": "code",
        "colab": {},
        "outputId": "739500f6-8730-4112-b638-9b697c02fb66"
      },
      "source": [
        "# Escribe en el archivo output_file.fasta los resultados del alineamiento.\n",
        "!clustalo -i ./sequence.fasta -o ./output_file.fasta --auto -v"
      ],
      "execution_count": 0,
      "outputs": [
        {
          "output_type": "stream",
          "text": [
            "Using 2 threads\n",
            "Read 2 sequences (type: Protein) from ./sequence.fasta\n",
            "not more sequences (2) than cluster-size (100), turn off mBed\n",
            "Setting options automatically based on input sequence characteristics (might overwrite some of your options).\n",
            "Auto settings: Enabling mBed.\n",
            "Auto settings: Setting iteration to 1.\n",
            "Progressive alignment progress done. CPU time: 0.56u 0.08s 00:00:00.64 Elapsed: 00:00:01\n",
            "Iteration step 1 out of 1\n",
            "Computing new guide tree (iteration step 1)\n",
            "Computing HMM from alignment\n",
            "Progressive alignment progress done. CPU time: 1.72u 0.19s 00:00:01.91 Elapsed: 00:00:02\n",
            "Alignment written to ./output_file.fasta\n"
          ],
          "name": "stdout"
        }
      ]
    },
    {
      "cell_type": "markdown",
      "metadata": {
        "id": "sctqoyZ4klef",
        "colab_type": "text"
      },
      "source": [
        "## Seleccionar únicamente la región del alineamiento que muestra estos residuos"
      ]
    },
    {
      "cell_type": "code",
      "metadata": {
        "id": "Ef1fncUVkleh",
        "colab_type": "code",
        "colab": {},
        "outputId": "c93f0d0f-9c37-4794-ba29-e57515e86c50"
      },
      "source": [
        "# Importa las librerias para visualizar el alineamiento.\n",
        "from Bio.Alphabet import generic_protein\n",
        "from Bio.Align import MultipleSeqAlignment\n",
        "from Bio.Seq import Seq\n",
        "from Bio.SeqRecord import SeqRecord\n",
        "\n",
        "# Crea un diccionario donde se guarda la informacion del archivo fasta.\n",
        "aligned_fasta_info = {}\n",
        "\n",
        "# Abre el archivo fasta que contiene las secuencias proteicas de ambos coronavirus alineadas.\n",
        "with open(\"./output_file.fasta\", 'r') as file_handler:\n",
        "\tfor fasta_sequence in file_handler:\n",
        "\n",
        "\t\t# Obtiene el nombre de la secuencia.\n",
        "\t\tif fasta_sequence.startswith(\">\"):\n",
        "\t\t\tname = fasta_sequence\n",
        "\t\t\tsequence = \"\"\n",
        "\t\t\tcontinue\n",
        "            \n",
        "        # Concatena las lineas de la misma secuencia.\n",
        "\t\tfasta_sequence = fasta_sequence.replace(\"\\n\", \"\")\n",
        "\t\tsequence = sequence + fasta_sequence.upper()\n",
        "\t\taligned_fasta_info[name] = sequence\n",
        "\n",
        "# Almacena solo las secuencias en una lista.\n",
        "aligned_sequences = []\n",
        "for keys, value in aligned_fasta_info.items():\n",
        "\taligned_sequences.append(value)\n",
        "\n",
        "# Crea las variables tipo SeqRecord de cada una de las secuencias.\n",
        "seq_rec_1 = SeqRecord(Seq(aligned_sequences[0], generic_protein), id='YP_009724390.1')\n",
        "seq_rec_2 = SeqRecord(Seq(aligned_sequences[1], generic_protein), id='NP_828851.1')\n",
        "\n",
        "# Obtenemos el sub alineamiento indicado.\n",
        "align = MultipleSeqAlignment([seq_rec_1, seq_rec_2])\n",
        "print(align[:2, 440:510].format(\"clustal\"))"
      ],
      "execution_count": 0,
      "outputs": [
        {
          "output_type": "stream",
          "text": [
            "CLUSTAL X (1.81) multiple sequence alignment\n",
            "\n",
            "\n",
            "YP_009724390.1                      NSNNLDSKVGGNYNYLYRLFRKSNLKPFERDISTEIYQAGSTPCNGVEGF\n",
            "NP_828851.1                         NTRNIDATSTGNYNYKYRYLRHGKLRPFERDISNVPFSPDGKPCTP-PAL\n",
            "\n",
            "YP_009724390.1                      NCYFPLQSYGFQPTNGVGYQ\n",
            "NP_828851.1                         NCYWPLNDYGFYTTTGIGYQ\n",
            "\n",
            "\n",
            "\n"
          ],
          "name": "stdout"
        }
      ]
    },
    {
      "cell_type": "markdown",
      "metadata": {
        "id": "C4GlU-2xkle9",
        "colab_type": "text"
      },
      "source": [
        "## ¿Qué más se les ocurre que puedan responder usando Biopython?"
      ]
    },
    {
      "cell_type": "markdown",
      "metadata": {
        "id": "TOqCrT4_klfQ",
        "colab_type": "text"
      },
      "source": [
        "Esta libreria nos seria de utilidad para \n",
        "poder ver puntualmente las mutaciones que han tenido los genomas de SARS-CoV-2 en cada país,es decir, formar la epidemiologia genómica del SARS-CoV-2, para despues poder conocer los aminoácidos que cambian en cada virus para posteriores investigaciones en las estructuras proteicas resultantes en busqueda de variaciones en la interacción virus- célula hospedera.\n",
        "\n",
        "De manera similar, se puede tener seguimiento de los haplotipos del virus, producto de las constantes mutaciones de su RNA como material genetico, con grafos pesados, cosa que se puede realizar con modulos de BioPython a la vez que con el ya conocido NetworkX\n",
        "(https://pubmed.ncbi.nlm.nih.gov/32130405/)\n",
        "\n",
        "Ya que Biopython cuenta con modulos que permiten realizar analisis en BLAST es posible una recontruccion parcial, a traves de tecnicas de busqueda de genes ortologos, de la filogenia del virus. Surge como una alternativa mas atractiva que su par en version web, dado el mayor poder de computo y  la facilidad de uso con multiples busquedas consecutivas.\n",
        "\n",
        "\n",
        "\n"
      ]
    },
    {
      "cell_type": "markdown",
      "metadata": {
        "id": "mahWFTd5sCLj",
        "colab_type": "text"
      },
      "source": [
        "Siendo mas especificos, en la literatura citada para el ejercicio (https://www.ncbi.nlm.nih.gov/pmc/articles/PMC7102515/), se hace hincapie sobre la estructura de la proteina spike y su interaccion con el receptor ACE-2 en ambos coronavirus (SARS-CoV-2: https://www.rcsb.org/structure/6LZG ; SARS-CoV: https://www.rcsb.org/structure/2AJF), y dentro de este ambito se puede detallar, gracias al modulo PDB, caracteristicas bioquimicas de la seccion de union a ACE-2, o la semejanza estructural de ambas a nivel de productos de cristalografia \n",
        "\n",
        "En el siguiente codigo se refleja a groso modo el manejo de algunas secciones del modulo PDB: "
      ]
    },
    {
      "cell_type": "code",
      "metadata": {
        "id": "IPpBxdHH7Avi",
        "colab_type": "code",
        "colab": {
          "base_uri": "https://localhost:8080/",
          "height": 146
        },
        "outputId": "2fd7aac2-ea11-432b-d078-5d73a5f91839"
      },
      "source": [
        "!pip install biopython"
      ],
      "execution_count": 2,
      "outputs": [
        {
          "output_type": "stream",
          "text": [
            "Collecting biopython\n",
            "\u001b[?25l  Downloading https://files.pythonhosted.org/packages/a8/66/134dbd5f885fc71493c61b6cf04c9ea08082da28da5ed07709b02857cbd0/biopython-1.77-cp36-cp36m-manylinux1_x86_64.whl (2.3MB)\n",
            "\u001b[K     |████████████████████████████████| 2.3MB 2.8MB/s \n",
            "\u001b[?25hRequirement already satisfied: numpy in /usr/local/lib/python3.6/dist-packages (from biopython) (1.18.4)\n",
            "Installing collected packages: biopython\n",
            "Successfully installed biopython-1.77\n"
          ],
          "name": "stdout"
        }
      ]
    },
    {
      "cell_type": "code",
      "metadata": {
        "id": "I7ob1ll1sDBy",
        "colab_type": "code",
        "colab": {
          "base_uri": "https://localhost:8080/",
          "height": 365
        },
        "outputId": "287f829c-9921-4446-b1db-ac6e6b2cbefb"
      },
      "source": [
        "# Importar librerias para el manejo de estructuras cristalograficas \n",
        "from Bio.PDB import *\n",
        "from Bio.PDB.PDBParser import PDBParser\n",
        "import numpy\n",
        "\n",
        "# Descarga y parseo de archivos para ambos coronavirus (SARS-CoV y SARS-CoV-2)\n",
        "cov1 = PDBList()\n",
        "cov1.retrieve_pdb_file('2ajf', pdir = '.', file_format = 'pdb')\n",
        "parseo1 = PDBParser(PERMISSIVE=1, QUIET=True) \n",
        "cov2 = PDBList() \n",
        "cov2.retrieve_pdb_file('6lzg', pdir = '.', file_format = 'pdb') \n",
        "parseo2 = PDBParser(PERMISSIVE=1,QUIET=True)  \n",
        "\n",
        "# Obtencion de estructura y analisis de sus clases hijas \n",
        "cov1_structure = parseo1.get_structure(\"2ajf\", \"pdb2ajf.ent\") \n",
        "print (cov1_structure.header['idcode'],'>',cov1_structure.header['name'])\n",
        "model1 = cov1_structure.get_models()\n",
        "models1 = list(model1)\n",
        "chains1 = list(models1[0].get_chains())\n",
        "residue1A = list(chains1[0].get_residues())\n",
        "print (models1)\n",
        "print (chains1)\n",
        "print (residue1A)\n",
        "print ('\\n')\n",
        "cov2_structure = parseo2.get_structure(\"6lzg\", \"pdb6lzg.ent\") \n",
        "print (cov2_structure.header['idcode'],'>',cov2_structure.header['name'])\n",
        "model2 = cov2_structure.get_models()\n",
        "models2 = list(model2) \n",
        "chains2 = list(models2[0].get_chains()) \n",
        "residue2A = list(chains2[0].get_residues())\n",
        "print (models2)\n",
        "print (chains2)\n",
        "print (residue2A)\n",
        "print ('\\n')\n",
        "\n",
        "# Seleccion de cadena A para ambas estructuras con sus respectivos atomos, modificando el largo de la lista para hcer sobreposicion de estructura\n",
        "uniqueModel1= cov1_structure[0]\n",
        "chainA1 = uniqueModel1['A']\n",
        "uniqueModel2= cov2_structure[0]\n",
        "chainA2 = uniqueModel2['A']\n",
        "fixe = list(chainA1.get_atoms())\n",
        "foxo = list(chainA2.get_atoms())\n",
        "fixe = fixe[0:4901]\n",
        "foxo = foxo[0:4901]\n",
        "sup = Superimposer()\n",
        "sup.set_atoms(fixe, foxo)\n",
        "print ('Rotran:', sup.rotran)\n",
        "print ('RMS: ', sup.rms)\n"
      ],
      "execution_count": 49,
      "outputs": [
        {
          "output_type": "stream",
          "text": [
            "Structure exists: './pdb2ajf.ent' \n",
            "Structure exists: './pdb6lzg.ent' \n",
            "2AJF > structure of sars coronavirus spike receptor-binding domain complexed with its receptor\n",
            "[<Model id=0>]\n",
            "[<Chain id=A>, <Chain id=B>, <Chain id=E>, <Chain id=F>]\n",
            "[<Residue SER het=  resseq=19 icode= >, <Residue THR het=  resseq=20 icode= >, <Residue ILE het=  resseq=21 icode= >, <Residue GLU het=  resseq=22 icode= >, <Residue GLU het=  resseq=23 icode= >, <Residue GLN het=  resseq=24 icode= >, <Residue ALA het=  resseq=25 icode= >, <Residue LYS het=  resseq=26 icode= >, <Residue THR het=  resseq=27 icode= >, <Residue PHE het=  resseq=28 icode= >, <Residue LEU het=  resseq=29 icode= >, <Residue ASP het=  resseq=30 icode= >, <Residue LYS het=  resseq=31 icode= >, <Residue PHE het=  resseq=32 icode= >, <Residue ASN het=  resseq=33 icode= >, <Residue HIS het=  resseq=34 icode= >, <Residue GLU het=  resseq=35 icode= >, <Residue ALA het=  resseq=36 icode= >, <Residue GLU het=  resseq=37 icode= >, <Residue ASP het=  resseq=38 icode= >, <Residue LEU het=  resseq=39 icode= >, <Residue PHE het=  resseq=40 icode= >, <Residue TYR het=  resseq=41 icode= >, <Residue GLN het=  resseq=42 icode= >, <Residue SER het=  resseq=43 icode= >, <Residue SER het=  resseq=44 icode= >, <Residue LEU het=  resseq=45 icode= >, <Residue ALA het=  resseq=46 icode= >, <Residue SER het=  resseq=47 icode= >, <Residue TRP het=  resseq=48 icode= >, <Residue ASN het=  resseq=49 icode= >, <Residue TYR het=  resseq=50 icode= >, <Residue ASN het=  resseq=51 icode= >, <Residue THR het=  resseq=52 icode= >, <Residue ASN het=  resseq=53 icode= >, <Residue ILE het=  resseq=54 icode= >, <Residue THR het=  resseq=55 icode= >, <Residue GLU het=  resseq=56 icode= >, <Residue GLU het=  resseq=57 icode= >, <Residue ASN het=  resseq=58 icode= >, <Residue VAL het=  resseq=59 icode= >, <Residue GLN het=  resseq=60 icode= >, <Residue ASN het=  resseq=61 icode= >, <Residue MET het=  resseq=62 icode= >, <Residue ASN het=  resseq=63 icode= >, <Residue ASN het=  resseq=64 icode= >, <Residue ALA het=  resseq=65 icode= >, <Residue GLY het=  resseq=66 icode= >, <Residue ASP het=  resseq=67 icode= >, <Residue LYS het=  resseq=68 icode= >, <Residue TRP het=  resseq=69 icode= >, <Residue SER het=  resseq=70 icode= >, <Residue ALA het=  resseq=71 icode= >, <Residue PHE het=  resseq=72 icode= >, <Residue LEU het=  resseq=73 icode= >, <Residue LYS het=  resseq=74 icode= >, <Residue GLU het=  resseq=75 icode= >, <Residue GLN het=  resseq=76 icode= >, <Residue SER het=  resseq=77 icode= >, <Residue THR het=  resseq=78 icode= >, <Residue LEU het=  resseq=79 icode= >, <Residue ALA het=  resseq=80 icode= >, <Residue GLN het=  resseq=81 icode= >, <Residue MET het=  resseq=82 icode= >, <Residue TYR het=  resseq=83 icode= >, <Residue PRO het=  resseq=84 icode= >, <Residue LEU het=  resseq=85 icode= >, <Residue GLN het=  resseq=86 icode= >, <Residue GLU het=  resseq=87 icode= >, <Residue ILE het=  resseq=88 icode= >, <Residue GLN het=  resseq=89 icode= >, <Residue ASN het=  resseq=90 icode= >, <Residue LEU het=  resseq=91 icode= >, <Residue THR het=  resseq=92 icode= >, <Residue VAL het=  resseq=93 icode= >, <Residue LYS het=  resseq=94 icode= >, <Residue LEU het=  resseq=95 icode= >, <Residue GLN het=  resseq=96 icode= >, <Residue LEU het=  resseq=97 icode= >, <Residue GLN het=  resseq=98 icode= >, <Residue ALA het=  resseq=99 icode= >, <Residue LEU het=  resseq=100 icode= >, <Residue GLN het=  resseq=101 icode= >, <Residue GLN het=  resseq=102 icode= >, <Residue ASN het=  resseq=103 icode= >, <Residue GLY het=  resseq=104 icode= >, <Residue SER het=  resseq=105 icode= >, <Residue SER het=  resseq=106 icode= >, <Residue VAL het=  resseq=107 icode= >, <Residue LEU het=  resseq=108 icode= >, <Residue SER het=  resseq=109 icode= >, <Residue GLU het=  resseq=110 icode= >, <Residue ASP het=  resseq=111 icode= >, <Residue LYS het=  resseq=112 icode= >, <Residue SER het=  resseq=113 icode= >, <Residue LYS het=  resseq=114 icode= >, <Residue ARG het=  resseq=115 icode= >, <Residue LEU het=  resseq=116 icode= >, <Residue ASN het=  resseq=117 icode= >, <Residue THR het=  resseq=118 icode= >, <Residue ILE het=  resseq=119 icode= >, <Residue LEU het=  resseq=120 icode= >, <Residue ASN het=  resseq=121 icode= >, <Residue THR het=  resseq=122 icode= >, <Residue MET het=  resseq=123 icode= >, <Residue SER het=  resseq=124 icode= >, <Residue THR het=  resseq=125 icode= >, <Residue ILE het=  resseq=126 icode= >, <Residue TYR het=  resseq=127 icode= >, <Residue SER het=  resseq=128 icode= >, <Residue THR het=  resseq=129 icode= >, <Residue GLY het=  resseq=130 icode= >, <Residue LYS het=  resseq=131 icode= >, <Residue VAL het=  resseq=132 icode= >, <Residue CYS het=  resseq=133 icode= >, <Residue ASN het=  resseq=134 icode= >, <Residue PRO het=  resseq=135 icode= >, <Residue ASP het=  resseq=136 icode= >, <Residue ASN het=  resseq=137 icode= >, <Residue PRO het=  resseq=138 icode= >, <Residue GLN het=  resseq=139 icode= >, <Residue GLU het=  resseq=140 icode= >, <Residue CYS het=  resseq=141 icode= >, <Residue LEU het=  resseq=142 icode= >, <Residue LEU het=  resseq=143 icode= >, <Residue LEU het=  resseq=144 icode= >, <Residue GLU het=  resseq=145 icode= >, <Residue PRO het=  resseq=146 icode= >, <Residue GLY het=  resseq=147 icode= >, <Residue LEU het=  resseq=148 icode= >, <Residue ASN het=  resseq=149 icode= >, <Residue GLU het=  resseq=150 icode= >, <Residue ILE het=  resseq=151 icode= >, <Residue MET het=  resseq=152 icode= >, <Residue ALA het=  resseq=153 icode= >, <Residue ASN het=  resseq=154 icode= >, <Residue SER het=  resseq=155 icode= >, <Residue LEU het=  resseq=156 icode= >, <Residue ASP het=  resseq=157 icode= >, <Residue TYR het=  resseq=158 icode= >, <Residue ASN het=  resseq=159 icode= >, <Residue GLU het=  resseq=160 icode= >, <Residue ARG het=  resseq=161 icode= >, <Residue LEU het=  resseq=162 icode= >, <Residue TRP het=  resseq=163 icode= >, <Residue ALA het=  resseq=164 icode= >, <Residue TRP het=  resseq=165 icode= >, <Residue GLU het=  resseq=166 icode= >, <Residue SER het=  resseq=167 icode= >, <Residue TRP het=  resseq=168 icode= >, <Residue ARG het=  resseq=169 icode= >, <Residue SER het=  resseq=170 icode= >, <Residue GLU het=  resseq=171 icode= >, <Residue VAL het=  resseq=172 icode= >, <Residue GLY het=  resseq=173 icode= >, <Residue LYS het=  resseq=174 icode= >, <Residue GLN het=  resseq=175 icode= >, <Residue LEU het=  resseq=176 icode= >, <Residue ARG het=  resseq=177 icode= >, <Residue PRO het=  resseq=178 icode= >, <Residue LEU het=  resseq=179 icode= >, <Residue TYR het=  resseq=180 icode= >, <Residue GLU het=  resseq=181 icode= >, <Residue GLU het=  resseq=182 icode= >, <Residue TYR het=  resseq=183 icode= >, <Residue VAL het=  resseq=184 icode= >, <Residue VAL het=  resseq=185 icode= >, <Residue LEU het=  resseq=186 icode= >, <Residue LYS het=  resseq=187 icode= >, <Residue ASN het=  resseq=188 icode= >, <Residue GLU het=  resseq=189 icode= >, <Residue MET het=  resseq=190 icode= >, <Residue ALA het=  resseq=191 icode= >, <Residue ARG het=  resseq=192 icode= >, <Residue ALA het=  resseq=193 icode= >, <Residue ASN het=  resseq=194 icode= >, <Residue HIS het=  resseq=195 icode= >, <Residue TYR het=  resseq=196 icode= >, <Residue GLU het=  resseq=197 icode= >, <Residue ASP het=  resseq=198 icode= >, <Residue TYR het=  resseq=199 icode= >, <Residue GLY het=  resseq=200 icode= >, <Residue ASP het=  resseq=201 icode= >, <Residue TYR het=  resseq=202 icode= >, <Residue TRP het=  resseq=203 icode= >, <Residue ARG het=  resseq=204 icode= >, <Residue GLY het=  resseq=205 icode= >, <Residue ASP het=  resseq=206 icode= >, <Residue TYR het=  resseq=207 icode= >, <Residue GLU het=  resseq=208 icode= >, <Residue VAL het=  resseq=209 icode= >, <Residue ASN het=  resseq=210 icode= >, <Residue GLY het=  resseq=211 icode= >, <Residue VAL het=  resseq=212 icode= >, <Residue ASP het=  resseq=213 icode= >, <Residue GLY het=  resseq=214 icode= >, <Residue TYR het=  resseq=215 icode= >, <Residue ASP het=  resseq=216 icode= >, <Residue TYR het=  resseq=217 icode= >, <Residue SER het=  resseq=218 icode= >, <Residue ARG het=  resseq=219 icode= >, <Residue GLY het=  resseq=220 icode= >, <Residue GLN het=  resseq=221 icode= >, <Residue LEU het=  resseq=222 icode= >, <Residue ILE het=  resseq=223 icode= >, <Residue GLU het=  resseq=224 icode= >, <Residue ASP het=  resseq=225 icode= >, <Residue VAL het=  resseq=226 icode= >, <Residue GLU het=  resseq=227 icode= >, <Residue HIS het=  resseq=228 icode= >, <Residue THR het=  resseq=229 icode= >, <Residue PHE het=  resseq=230 icode= >, <Residue GLU het=  resseq=231 icode= >, <Residue GLU het=  resseq=232 icode= >, <Residue ILE het=  resseq=233 icode= >, <Residue LYS het=  resseq=234 icode= >, <Residue PRO het=  resseq=235 icode= >, <Residue LEU het=  resseq=236 icode= >, <Residue TYR het=  resseq=237 icode= >, <Residue GLU het=  resseq=238 icode= >, <Residue HIS het=  resseq=239 icode= >, <Residue LEU het=  resseq=240 icode= >, <Residue HIS het=  resseq=241 icode= >, <Residue ALA het=  resseq=242 icode= >, <Residue TYR het=  resseq=243 icode= >, <Residue VAL het=  resseq=244 icode= >, <Residue ARG het=  resseq=245 icode= >, <Residue ALA het=  resseq=246 icode= >, <Residue LYS het=  resseq=247 icode= >, <Residue LEU het=  resseq=248 icode= >, <Residue MET het=  resseq=249 icode= >, <Residue ASN het=  resseq=250 icode= >, <Residue ALA het=  resseq=251 icode= >, <Residue TYR het=  resseq=252 icode= >, <Residue PRO het=  resseq=253 icode= >, <Residue SER het=  resseq=254 icode= >, <Residue TYR het=  resseq=255 icode= >, <Residue ILE het=  resseq=256 icode= >, <Residue SER het=  resseq=257 icode= >, <Residue PRO het=  resseq=258 icode= >, <Residue ILE het=  resseq=259 icode= >, <Residue GLY het=  resseq=260 icode= >, <Residue CYS het=  resseq=261 icode= >, <Residue LEU het=  resseq=262 icode= >, <Residue PRO het=  resseq=263 icode= >, <Residue ALA het=  resseq=264 icode= >, <Residue HIS het=  resseq=265 icode= >, <Residue LEU het=  resseq=266 icode= >, <Residue LEU het=  resseq=267 icode= >, <Residue GLY het=  resseq=268 icode= >, <Residue ASP het=  resseq=269 icode= >, <Residue MET het=  resseq=270 icode= >, <Residue TRP het=  resseq=271 icode= >, <Residue GLY het=  resseq=272 icode= >, <Residue ARG het=  resseq=273 icode= >, <Residue PHE het=  resseq=274 icode= >, <Residue TRP het=  resseq=275 icode= >, <Residue THR het=  resseq=276 icode= >, <Residue ASN het=  resseq=277 icode= >, <Residue LEU het=  resseq=278 icode= >, <Residue TYR het=  resseq=279 icode= >, <Residue SER het=  resseq=280 icode= >, <Residue LEU het=  resseq=281 icode= >, <Residue THR het=  resseq=282 icode= >, <Residue VAL het=  resseq=283 icode= >, <Residue PRO het=  resseq=284 icode= >, <Residue PHE het=  resseq=285 icode= >, <Residue GLY het=  resseq=286 icode= >, <Residue GLN het=  resseq=287 icode= >, <Residue LYS het=  resseq=288 icode= >, <Residue PRO het=  resseq=289 icode= >, <Residue ASN het=  resseq=290 icode= >, <Residue ILE het=  resseq=291 icode= >, <Residue ASP het=  resseq=292 icode= >, <Residue VAL het=  resseq=293 icode= >, <Residue THR het=  resseq=294 icode= >, <Residue ASP het=  resseq=295 icode= >, <Residue ALA het=  resseq=296 icode= >, <Residue MET het=  resseq=297 icode= >, <Residue VAL het=  resseq=298 icode= >, <Residue ASP het=  resseq=299 icode= >, <Residue GLN het=  resseq=300 icode= >, <Residue ALA het=  resseq=301 icode= >, <Residue TRP het=  resseq=302 icode= >, <Residue ASP het=  resseq=303 icode= >, <Residue ALA het=  resseq=304 icode= >, <Residue GLN het=  resseq=305 icode= >, <Residue ARG het=  resseq=306 icode= >, <Residue ILE het=  resseq=307 icode= >, <Residue PHE het=  resseq=308 icode= >, <Residue LYS het=  resseq=309 icode= >, <Residue GLU het=  resseq=310 icode= >, <Residue ALA het=  resseq=311 icode= >, <Residue GLU het=  resseq=312 icode= >, <Residue LYS het=  resseq=313 icode= >, <Residue PHE het=  resseq=314 icode= >, <Residue PHE het=  resseq=315 icode= >, <Residue VAL het=  resseq=316 icode= >, <Residue SER het=  resseq=317 icode= >, <Residue VAL het=  resseq=318 icode= >, <Residue GLY het=  resseq=319 icode= >, <Residue LEU het=  resseq=320 icode= >, <Residue PRO het=  resseq=321 icode= >, <Residue ASN het=  resseq=322 icode= >, <Residue MET het=  resseq=323 icode= >, <Residue THR het=  resseq=324 icode= >, <Residue GLN het=  resseq=325 icode= >, <Residue GLY het=  resseq=326 icode= >, <Residue PHE het=  resseq=327 icode= >, <Residue TRP het=  resseq=328 icode= >, <Residue GLU het=  resseq=329 icode= >, <Residue ASN het=  resseq=330 icode= >, <Residue SER het=  resseq=331 icode= >, <Residue MET het=  resseq=332 icode= >, <Residue LEU het=  resseq=333 icode= >, <Residue THR het=  resseq=334 icode= >, <Residue ASP het=  resseq=335 icode= >, <Residue PRO het=  resseq=336 icode= >, <Residue GLY het=  resseq=337 icode= >, <Residue ASN het=  resseq=338 icode= >, <Residue VAL het=  resseq=339 icode= >, <Residue GLN het=  resseq=340 icode= >, <Residue LYS het=  resseq=341 icode= >, <Residue ALA het=  resseq=342 icode= >, <Residue VAL het=  resseq=343 icode= >, <Residue CYS het=  resseq=344 icode= >, <Residue HIS het=  resseq=345 icode= >, <Residue PRO het=  resseq=346 icode= >, <Residue THR het=  resseq=347 icode= >, <Residue ALA het=  resseq=348 icode= >, <Residue TRP het=  resseq=349 icode= >, <Residue ASP het=  resseq=350 icode= >, <Residue LEU het=  resseq=351 icode= >, <Residue GLY het=  resseq=352 icode= >, <Residue LYS het=  resseq=353 icode= >, <Residue GLY het=  resseq=354 icode= >, <Residue ASP het=  resseq=355 icode= >, <Residue PHE het=  resseq=356 icode= >, <Residue ARG het=  resseq=357 icode= >, <Residue ILE het=  resseq=358 icode= >, <Residue LEU het=  resseq=359 icode= >, <Residue MET het=  resseq=360 icode= >, <Residue CYS het=  resseq=361 icode= >, <Residue THR het=  resseq=362 icode= >, <Residue LYS het=  resseq=363 icode= >, <Residue VAL het=  resseq=364 icode= >, <Residue THR het=  resseq=365 icode= >, <Residue MET het=  resseq=366 icode= >, <Residue ASP het=  resseq=367 icode= >, <Residue ASP het=  resseq=368 icode= >, <Residue PHE het=  resseq=369 icode= >, <Residue LEU het=  resseq=370 icode= >, <Residue THR het=  resseq=371 icode= >, <Residue ALA het=  resseq=372 icode= >, <Residue HIS het=  resseq=373 icode= >, <Residue HIS het=  resseq=374 icode= >, <Residue GLU het=  resseq=375 icode= >, <Residue MET het=  resseq=376 icode= >, <Residue GLY het=  resseq=377 icode= >, <Residue HIS het=  resseq=378 icode= >, <Residue ILE het=  resseq=379 icode= >, <Residue GLN het=  resseq=380 icode= >, <Residue TYR het=  resseq=381 icode= >, <Residue ASP het=  resseq=382 icode= >, <Residue MET het=  resseq=383 icode= >, <Residue ALA het=  resseq=384 icode= >, <Residue TYR het=  resseq=385 icode= >, <Residue ALA het=  resseq=386 icode= >, <Residue ALA het=  resseq=387 icode= >, <Residue GLN het=  resseq=388 icode= >, <Residue PRO het=  resseq=389 icode= >, <Residue PHE het=  resseq=390 icode= >, <Residue LEU het=  resseq=391 icode= >, <Residue LEU het=  resseq=392 icode= >, <Residue ARG het=  resseq=393 icode= >, <Residue ASN het=  resseq=394 icode= >, <Residue GLY het=  resseq=395 icode= >, <Residue ALA het=  resseq=396 icode= >, <Residue ASN het=  resseq=397 icode= >, <Residue GLU het=  resseq=398 icode= >, <Residue GLY het=  resseq=399 icode= >, <Residue PHE het=  resseq=400 icode= >, <Residue HIS het=  resseq=401 icode= >, <Residue GLU het=  resseq=402 icode= >, <Residue ALA het=  resseq=403 icode= >, <Residue VAL het=  resseq=404 icode= >, <Residue GLY het=  resseq=405 icode= >, <Residue GLU het=  resseq=406 icode= >, <Residue ILE het=  resseq=407 icode= >, <Residue MET het=  resseq=408 icode= >, <Residue SER het=  resseq=409 icode= >, <Residue LEU het=  resseq=410 icode= >, <Residue SER het=  resseq=411 icode= >, <Residue ALA het=  resseq=412 icode= >, <Residue ALA het=  resseq=413 icode= >, <Residue THR het=  resseq=414 icode= >, <Residue PRO het=  resseq=415 icode= >, <Residue LYS het=  resseq=416 icode= >, <Residue HIS het=  resseq=417 icode= >, <Residue LEU het=  resseq=418 icode= >, <Residue LYS het=  resseq=419 icode= >, <Residue SER het=  resseq=420 icode= >, <Residue ILE het=  resseq=421 icode= >, <Residue GLY het=  resseq=422 icode= >, <Residue LEU het=  resseq=423 icode= >, <Residue LEU het=  resseq=424 icode= >, <Residue SER het=  resseq=425 icode= >, <Residue PRO het=  resseq=426 icode= >, <Residue ASP het=  resseq=427 icode= >, <Residue PHE het=  resseq=428 icode= >, <Residue GLN het=  resseq=429 icode= >, <Residue GLU het=  resseq=430 icode= >, <Residue ASP het=  resseq=431 icode= >, <Residue ASN het=  resseq=432 icode= >, <Residue GLU het=  resseq=433 icode= >, <Residue THR het=  resseq=434 icode= >, <Residue GLU het=  resseq=435 icode= >, <Residue ILE het=  resseq=436 icode= >, <Residue ASN het=  resseq=437 icode= >, <Residue PHE het=  resseq=438 icode= >, <Residue LEU het=  resseq=439 icode= >, <Residue LEU het=  resseq=440 icode= >, <Residue LYS het=  resseq=441 icode= >, <Residue GLN het=  resseq=442 icode= >, <Residue ALA het=  resseq=443 icode= >, <Residue LEU het=  resseq=444 icode= >, <Residue THR het=  resseq=445 icode= >, <Residue ILE het=  resseq=446 icode= >, <Residue VAL het=  resseq=447 icode= >, <Residue GLY het=  resseq=448 icode= >, <Residue THR het=  resseq=449 icode= >, <Residue LEU het=  resseq=450 icode= >, <Residue PRO het=  resseq=451 icode= >, <Residue PHE het=  resseq=452 icode= >, <Residue THR het=  resseq=453 icode= >, <Residue TYR het=  resseq=454 icode= >, <Residue MET het=  resseq=455 icode= >, <Residue LEU het=  resseq=456 icode= >, <Residue GLU het=  resseq=457 icode= >, <Residue LYS het=  resseq=458 icode= >, <Residue TRP het=  resseq=459 icode= >, <Residue ARG het=  resseq=460 icode= >, <Residue TRP het=  resseq=461 icode= >, <Residue MET het=  resseq=462 icode= >, <Residue VAL het=  resseq=463 icode= >, <Residue PHE het=  resseq=464 icode= >, <Residue LYS het=  resseq=465 icode= >, <Residue GLY het=  resseq=466 icode= >, <Residue GLU het=  resseq=467 icode= >, <Residue ILE het=  resseq=468 icode= >, <Residue PRO het=  resseq=469 icode= >, <Residue LYS het=  resseq=470 icode= >, <Residue ASP het=  resseq=471 icode= >, <Residue GLN het=  resseq=472 icode= >, <Residue TRP het=  resseq=473 icode= >, <Residue MET het=  resseq=474 icode= >, <Residue LYS het=  resseq=475 icode= >, <Residue LYS het=  resseq=476 icode= >, <Residue TRP het=  resseq=477 icode= >, <Residue TRP het=  resseq=478 icode= >, <Residue GLU het=  resseq=479 icode= >, <Residue MET het=  resseq=480 icode= >, <Residue LYS het=  resseq=481 icode= >, <Residue ARG het=  resseq=482 icode= >, <Residue GLU het=  resseq=483 icode= >, <Residue ILE het=  resseq=484 icode= >, <Residue VAL het=  resseq=485 icode= >, <Residue GLY het=  resseq=486 icode= >, <Residue VAL het=  resseq=487 icode= >, <Residue VAL het=  resseq=488 icode= >, <Residue GLU het=  resseq=489 icode= >, <Residue PRO het=  resseq=490 icode= >, <Residue VAL het=  resseq=491 icode= >, <Residue PRO het=  resseq=492 icode= >, <Residue HIS het=  resseq=493 icode= >, <Residue ASP het=  resseq=494 icode= >, <Residue GLU het=  resseq=495 icode= >, <Residue THR het=  resseq=496 icode= >, <Residue TYR het=  resseq=497 icode= >, <Residue CYS het=  resseq=498 icode= >, <Residue ASP het=  resseq=499 icode= >, <Residue PRO het=  resseq=500 icode= >, <Residue ALA het=  resseq=501 icode= >, <Residue SER het=  resseq=502 icode= >, <Residue LEU het=  resseq=503 icode= >, <Residue PHE het=  resseq=504 icode= >, <Residue HIS het=  resseq=505 icode= >, <Residue VAL het=  resseq=506 icode= >, <Residue SER het=  resseq=507 icode= >, <Residue ASN het=  resseq=508 icode= >, <Residue ASP het=  resseq=509 icode= >, <Residue TYR het=  resseq=510 icode= >, <Residue SER het=  resseq=511 icode= >, <Residue PHE het=  resseq=512 icode= >, <Residue ILE het=  resseq=513 icode= >, <Residue ARG het=  resseq=514 icode= >, <Residue TYR het=  resseq=515 icode= >, <Residue TYR het=  resseq=516 icode= >, <Residue THR het=  resseq=517 icode= >, <Residue ARG het=  resseq=518 icode= >, <Residue THR het=  resseq=519 icode= >, <Residue LEU het=  resseq=520 icode= >, <Residue TYR het=  resseq=521 icode= >, <Residue GLN het=  resseq=522 icode= >, <Residue PHE het=  resseq=523 icode= >, <Residue GLN het=  resseq=524 icode= >, <Residue PHE het=  resseq=525 icode= >, <Residue GLN het=  resseq=526 icode= >, <Residue GLU het=  resseq=527 icode= >, <Residue ALA het=  resseq=528 icode= >, <Residue LEU het=  resseq=529 icode= >, <Residue CYS het=  resseq=530 icode= >, <Residue GLN het=  resseq=531 icode= >, <Residue ALA het=  resseq=532 icode= >, <Residue ALA het=  resseq=533 icode= >, <Residue LYS het=  resseq=534 icode= >, <Residue HIS het=  resseq=535 icode= >, <Residue GLU het=  resseq=536 icode= >, <Residue GLY het=  resseq=537 icode= >, <Residue PRO het=  resseq=538 icode= >, <Residue LEU het=  resseq=539 icode= >, <Residue HIS het=  resseq=540 icode= >, <Residue LYS het=  resseq=541 icode= >, <Residue CYS het=  resseq=542 icode= >, <Residue ASP het=  resseq=543 icode= >, <Residue ILE het=  resseq=544 icode= >, <Residue SER het=  resseq=545 icode= >, <Residue ASN het=  resseq=546 icode= >, <Residue SER het=  resseq=547 icode= >, <Residue THR het=  resseq=548 icode= >, <Residue GLU het=  resseq=549 icode= >, <Residue ALA het=  resseq=550 icode= >, <Residue GLY het=  resseq=551 icode= >, <Residue GLN het=  resseq=552 icode= >, <Residue LYS het=  resseq=553 icode= >, <Residue LEU het=  resseq=554 icode= >, <Residue PHE het=  resseq=555 icode= >, <Residue ASN het=  resseq=556 icode= >, <Residue MET het=  resseq=557 icode= >, <Residue LEU het=  resseq=558 icode= >, <Residue ARG het=  resseq=559 icode= >, <Residue LEU het=  resseq=560 icode= >, <Residue GLY het=  resseq=561 icode= >, <Residue LYS het=  resseq=562 icode= >, <Residue SER het=  resseq=563 icode= >, <Residue GLU het=  resseq=564 icode= >, <Residue PRO het=  resseq=565 icode= >, <Residue TRP het=  resseq=566 icode= >, <Residue THR het=  resseq=567 icode= >, <Residue LEU het=  resseq=568 icode= >, <Residue ALA het=  resseq=569 icode= >, <Residue LEU het=  resseq=570 icode= >, <Residue GLU het=  resseq=571 icode= >, <Residue ASN het=  resseq=572 icode= >, <Residue VAL het=  resseq=573 icode= >, <Residue VAL het=  resseq=574 icode= >, <Residue GLY het=  resseq=575 icode= >, <Residue ALA het=  resseq=576 icode= >, <Residue LYS het=  resseq=577 icode= >, <Residue ASN het=  resseq=578 icode= >, <Residue MET het=  resseq=579 icode= >, <Residue ASN het=  resseq=580 icode= >, <Residue VAL het=  resseq=581 icode= >, <Residue ARG het=  resseq=582 icode= >, <Residue PRO het=  resseq=583 icode= >, <Residue LEU het=  resseq=584 icode= >, <Residue LEU het=  resseq=585 icode= >, <Residue ASN het=  resseq=586 icode= >, <Residue TYR het=  resseq=587 icode= >, <Residue PHE het=  resseq=588 icode= >, <Residue GLU het=  resseq=589 icode= >, <Residue PRO het=  resseq=590 icode= >, <Residue LEU het=  resseq=591 icode= >, <Residue PHE het=  resseq=592 icode= >, <Residue THR het=  resseq=593 icode= >, <Residue TRP het=  resseq=594 icode= >, <Residue LEU het=  resseq=595 icode= >, <Residue LYS het=  resseq=596 icode= >, <Residue ASP het=  resseq=597 icode= >, <Residue GLN het=  resseq=598 icode= >, <Residue ASN het=  resseq=599 icode= >, <Residue LYS het=  resseq=600 icode= >, <Residue ASN het=  resseq=601 icode= >, <Residue SER het=  resseq=602 icode= >, <Residue PHE het=  resseq=603 icode= >, <Residue VAL het=  resseq=604 icode= >, <Residue GLY het=  resseq=605 icode= >, <Residue TRP het=  resseq=606 icode= >, <Residue SER het=  resseq=607 icode= >, <Residue THR het=  resseq=608 icode= >, <Residue ASP het=  resseq=609 icode= >, <Residue TRP het=  resseq=610 icode= >, <Residue SER het=  resseq=611 icode= >, <Residue PRO het=  resseq=612 icode= >, <Residue TYR het=  resseq=613 icode= >, <Residue ALA het=  resseq=614 icode= >, <Residue ASP het=  resseq=615 icode= >, <Residue NAG het=H_NAG resseq=1090 icode= >, <Residue NAG het=H_NAG resseq=1091 icode= >, <Residue BMA het=H_BMA resseq=1092 icode= >, <Residue NAG het=H_NAG resseq=1053 icode= >, <Residue NAG het=H_NAG resseq=1322 icode= >, <Residue NAG het=H_NAG resseq=1546 icode= >, <Residue  ZN het=H_ ZN resseq=901 icode= >, <Residue  CL het=H_ CL resseq=902 icode= >, <Residue HOH het=W resseq=1547 icode= >, <Residue HOH het=W resseq=1548 icode= >, <Residue HOH het=W resseq=1549 icode= >, <Residue HOH het=W resseq=1550 icode= >, <Residue HOH het=W resseq=1551 icode= >, <Residue HOH het=W resseq=1552 icode= >, <Residue HOH het=W resseq=1553 icode= >, <Residue HOH het=W resseq=1554 icode= >, <Residue HOH het=W resseq=1555 icode= >, <Residue HOH het=W resseq=1556 icode= >, <Residue HOH het=W resseq=1557 icode= >, <Residue HOH het=W resseq=1558 icode= >, <Residue HOH het=W resseq=1559 icode= >, <Residue HOH het=W resseq=1560 icode= >, <Residue HOH het=W resseq=1561 icode= >, <Residue HOH het=W resseq=1562 icode= >, <Residue HOH het=W resseq=1563 icode= >, <Residue HOH het=W resseq=1564 icode= >, <Residue HOH het=W resseq=1565 icode= >, <Residue HOH het=W resseq=1566 icode= >, <Residue HOH het=W resseq=1567 icode= >, <Residue HOH het=W resseq=1568 icode= >, <Residue HOH het=W resseq=1569 icode= >, <Residue HOH het=W resseq=1570 icode= >, <Residue HOH het=W resseq=1571 icode= >, <Residue HOH het=W resseq=1572 icode= >, <Residue HOH het=W resseq=1573 icode= >, <Residue HOH het=W resseq=1574 icode= >, <Residue HOH het=W resseq=1575 icode= >, <Residue HOH het=W resseq=1576 icode= >, <Residue HOH het=W resseq=1577 icode= >, <Residue HOH het=W resseq=1578 icode= >, <Residue HOH het=W resseq=1579 icode= >, <Residue HOH het=W resseq=1580 icode= >, <Residue HOH het=W resseq=1581 icode= >, <Residue HOH het=W resseq=1582 icode= >]\n",
            "\n",
            "\n",
            "6LZG > structure of novel coronavirus spike receptor-binding domain complexed with its receptor ace2\n",
            "[<Model id=0>]\n",
            "[<Chain id=A>, <Chain id=B>]\n",
            "[<Residue SER het=  resseq=19 icode= >, <Residue THR het=  resseq=20 icode= >, <Residue ILE het=  resseq=21 icode= >, <Residue GLU het=  resseq=22 icode= >, <Residue GLU het=  resseq=23 icode= >, <Residue GLN het=  resseq=24 icode= >, <Residue ALA het=  resseq=25 icode= >, <Residue LYS het=  resseq=26 icode= >, <Residue THR het=  resseq=27 icode= >, <Residue PHE het=  resseq=28 icode= >, <Residue LEU het=  resseq=29 icode= >, <Residue ASP het=  resseq=30 icode= >, <Residue LYS het=  resseq=31 icode= >, <Residue PHE het=  resseq=32 icode= >, <Residue ASN het=  resseq=33 icode= >, <Residue HIS het=  resseq=34 icode= >, <Residue GLU het=  resseq=35 icode= >, <Residue ALA het=  resseq=36 icode= >, <Residue GLU het=  resseq=37 icode= >, <Residue ASP het=  resseq=38 icode= >, <Residue LEU het=  resseq=39 icode= >, <Residue PHE het=  resseq=40 icode= >, <Residue TYR het=  resseq=41 icode= >, <Residue GLN het=  resseq=42 icode= >, <Residue SER het=  resseq=43 icode= >, <Residue SER het=  resseq=44 icode= >, <Residue LEU het=  resseq=45 icode= >, <Residue ALA het=  resseq=46 icode= >, <Residue SER het=  resseq=47 icode= >, <Residue TRP het=  resseq=48 icode= >, <Residue ASN het=  resseq=49 icode= >, <Residue TYR het=  resseq=50 icode= >, <Residue ASN het=  resseq=51 icode= >, <Residue THR het=  resseq=52 icode= >, <Residue ASN het=  resseq=53 icode= >, <Residue ILE het=  resseq=54 icode= >, <Residue THR het=  resseq=55 icode= >, <Residue GLU het=  resseq=56 icode= >, <Residue GLU het=  resseq=57 icode= >, <Residue ASN het=  resseq=58 icode= >, <Residue VAL het=  resseq=59 icode= >, <Residue GLN het=  resseq=60 icode= >, <Residue ASN het=  resseq=61 icode= >, <Residue MET het=  resseq=62 icode= >, <Residue ASN het=  resseq=63 icode= >, <Residue ASN het=  resseq=64 icode= >, <Residue ALA het=  resseq=65 icode= >, <Residue GLY het=  resseq=66 icode= >, <Residue ASP het=  resseq=67 icode= >, <Residue LYS het=  resseq=68 icode= >, <Residue TRP het=  resseq=69 icode= >, <Residue SER het=  resseq=70 icode= >, <Residue ALA het=  resseq=71 icode= >, <Residue PHE het=  resseq=72 icode= >, <Residue LEU het=  resseq=73 icode= >, <Residue LYS het=  resseq=74 icode= >, <Residue GLU het=  resseq=75 icode= >, <Residue GLN het=  resseq=76 icode= >, <Residue SER het=  resseq=77 icode= >, <Residue THR het=  resseq=78 icode= >, <Residue LEU het=  resseq=79 icode= >, <Residue ALA het=  resseq=80 icode= >, <Residue GLN het=  resseq=81 icode= >, <Residue MET het=  resseq=82 icode= >, <Residue TYR het=  resseq=83 icode= >, <Residue PRO het=  resseq=84 icode= >, <Residue LEU het=  resseq=85 icode= >, <Residue GLN het=  resseq=86 icode= >, <Residue GLU het=  resseq=87 icode= >, <Residue ILE het=  resseq=88 icode= >, <Residue GLN het=  resseq=89 icode= >, <Residue ASN het=  resseq=90 icode= >, <Residue LEU het=  resseq=91 icode= >, <Residue THR het=  resseq=92 icode= >, <Residue VAL het=  resseq=93 icode= >, <Residue LYS het=  resseq=94 icode= >, <Residue LEU het=  resseq=95 icode= >, <Residue GLN het=  resseq=96 icode= >, <Residue LEU het=  resseq=97 icode= >, <Residue GLN het=  resseq=98 icode= >, <Residue ALA het=  resseq=99 icode= >, <Residue LEU het=  resseq=100 icode= >, <Residue GLN het=  resseq=101 icode= >, <Residue GLN het=  resseq=102 icode= >, <Residue ASN het=  resseq=103 icode= >, <Residue GLY het=  resseq=104 icode= >, <Residue SER het=  resseq=105 icode= >, <Residue SER het=  resseq=106 icode= >, <Residue VAL het=  resseq=107 icode= >, <Residue LEU het=  resseq=108 icode= >, <Residue SER het=  resseq=109 icode= >, <Residue GLU het=  resseq=110 icode= >, <Residue ASP het=  resseq=111 icode= >, <Residue LYS het=  resseq=112 icode= >, <Residue SER het=  resseq=113 icode= >, <Residue LYS het=  resseq=114 icode= >, <Residue ARG het=  resseq=115 icode= >, <Residue LEU het=  resseq=116 icode= >, <Residue ASN het=  resseq=117 icode= >, <Residue THR het=  resseq=118 icode= >, <Residue ILE het=  resseq=119 icode= >, <Residue LEU het=  resseq=120 icode= >, <Residue ASN het=  resseq=121 icode= >, <Residue THR het=  resseq=122 icode= >, <Residue MET het=  resseq=123 icode= >, <Residue SER het=  resseq=124 icode= >, <Residue THR het=  resseq=125 icode= >, <Residue ILE het=  resseq=126 icode= >, <Residue TYR het=  resseq=127 icode= >, <Residue SER het=  resseq=128 icode= >, <Residue THR het=  resseq=129 icode= >, <Residue GLY het=  resseq=130 icode= >, <Residue LYS het=  resseq=131 icode= >, <Residue VAL het=  resseq=132 icode= >, <Residue CYS het=  resseq=133 icode= >, <Residue ASN het=  resseq=134 icode= >, <Residue PRO het=  resseq=135 icode= >, <Residue ASP het=  resseq=136 icode= >, <Residue ASN het=  resseq=137 icode= >, <Residue PRO het=  resseq=138 icode= >, <Residue GLN het=  resseq=139 icode= >, <Residue GLU het=  resseq=140 icode= >, <Residue CYS het=  resseq=141 icode= >, <Residue LEU het=  resseq=142 icode= >, <Residue LEU het=  resseq=143 icode= >, <Residue LEU het=  resseq=144 icode= >, <Residue GLU het=  resseq=145 icode= >, <Residue PRO het=  resseq=146 icode= >, <Residue GLY het=  resseq=147 icode= >, <Residue LEU het=  resseq=148 icode= >, <Residue ASN het=  resseq=149 icode= >, <Residue GLU het=  resseq=150 icode= >, <Residue ILE het=  resseq=151 icode= >, <Residue MET het=  resseq=152 icode= >, <Residue ALA het=  resseq=153 icode= >, <Residue ASN het=  resseq=154 icode= >, <Residue SER het=  resseq=155 icode= >, <Residue LEU het=  resseq=156 icode= >, <Residue ASP het=  resseq=157 icode= >, <Residue TYR het=  resseq=158 icode= >, <Residue ASN het=  resseq=159 icode= >, <Residue GLU het=  resseq=160 icode= >, <Residue ARG het=  resseq=161 icode= >, <Residue LEU het=  resseq=162 icode= >, <Residue TRP het=  resseq=163 icode= >, <Residue ALA het=  resseq=164 icode= >, <Residue TRP het=  resseq=165 icode= >, <Residue GLU het=  resseq=166 icode= >, <Residue SER het=  resseq=167 icode= >, <Residue TRP het=  resseq=168 icode= >, <Residue ARG het=  resseq=169 icode= >, <Residue SER het=  resseq=170 icode= >, <Residue GLU het=  resseq=171 icode= >, <Residue VAL het=  resseq=172 icode= >, <Residue GLY het=  resseq=173 icode= >, <Residue LYS het=  resseq=174 icode= >, <Residue GLN het=  resseq=175 icode= >, <Residue LEU het=  resseq=176 icode= >, <Residue ARG het=  resseq=177 icode= >, <Residue PRO het=  resseq=178 icode= >, <Residue LEU het=  resseq=179 icode= >, <Residue TYR het=  resseq=180 icode= >, <Residue GLU het=  resseq=181 icode= >, <Residue GLU het=  resseq=182 icode= >, <Residue TYR het=  resseq=183 icode= >, <Residue VAL het=  resseq=184 icode= >, <Residue VAL het=  resseq=185 icode= >, <Residue LEU het=  resseq=186 icode= >, <Residue LYS het=  resseq=187 icode= >, <Residue ASN het=  resseq=188 icode= >, <Residue GLU het=  resseq=189 icode= >, <Residue MET het=  resseq=190 icode= >, <Residue ALA het=  resseq=191 icode= >, <Residue ARG het=  resseq=192 icode= >, <Residue ALA het=  resseq=193 icode= >, <Residue ASN het=  resseq=194 icode= >, <Residue HIS het=  resseq=195 icode= >, <Residue TYR het=  resseq=196 icode= >, <Residue GLU het=  resseq=197 icode= >, <Residue ASP het=  resseq=198 icode= >, <Residue TYR het=  resseq=199 icode= >, <Residue GLY het=  resseq=200 icode= >, <Residue ASP het=  resseq=201 icode= >, <Residue TYR het=  resseq=202 icode= >, <Residue TRP het=  resseq=203 icode= >, <Residue ARG het=  resseq=204 icode= >, <Residue GLY het=  resseq=205 icode= >, <Residue ASP het=  resseq=206 icode= >, <Residue TYR het=  resseq=207 icode= >, <Residue GLU het=  resseq=208 icode= >, <Residue VAL het=  resseq=209 icode= >, <Residue ASN het=  resseq=210 icode= >, <Residue GLY het=  resseq=211 icode= >, <Residue VAL het=  resseq=212 icode= >, <Residue ASP het=  resseq=213 icode= >, <Residue GLY het=  resseq=214 icode= >, <Residue TYR het=  resseq=215 icode= >, <Residue ASP het=  resseq=216 icode= >, <Residue TYR het=  resseq=217 icode= >, <Residue SER het=  resseq=218 icode= >, <Residue ARG het=  resseq=219 icode= >, <Residue GLY het=  resseq=220 icode= >, <Residue GLN het=  resseq=221 icode= >, <Residue LEU het=  resseq=222 icode= >, <Residue ILE het=  resseq=223 icode= >, <Residue GLU het=  resseq=224 icode= >, <Residue ASP het=  resseq=225 icode= >, <Residue VAL het=  resseq=226 icode= >, <Residue GLU het=  resseq=227 icode= >, <Residue HIS het=  resseq=228 icode= >, <Residue THR het=  resseq=229 icode= >, <Residue PHE het=  resseq=230 icode= >, <Residue GLU het=  resseq=231 icode= >, <Residue GLU het=  resseq=232 icode= >, <Residue ILE het=  resseq=233 icode= >, <Residue LYS het=  resseq=234 icode= >, <Residue PRO het=  resseq=235 icode= >, <Residue LEU het=  resseq=236 icode= >, <Residue TYR het=  resseq=237 icode= >, <Residue GLU het=  resseq=238 icode= >, <Residue HIS het=  resseq=239 icode= >, <Residue LEU het=  resseq=240 icode= >, <Residue HIS het=  resseq=241 icode= >, <Residue ALA het=  resseq=242 icode= >, <Residue TYR het=  resseq=243 icode= >, <Residue VAL het=  resseq=244 icode= >, <Residue ARG het=  resseq=245 icode= >, <Residue ALA het=  resseq=246 icode= >, <Residue LYS het=  resseq=247 icode= >, <Residue LEU het=  resseq=248 icode= >, <Residue MET het=  resseq=249 icode= >, <Residue ASN het=  resseq=250 icode= >, <Residue ALA het=  resseq=251 icode= >, <Residue TYR het=  resseq=252 icode= >, <Residue PRO het=  resseq=253 icode= >, <Residue SER het=  resseq=254 icode= >, <Residue TYR het=  resseq=255 icode= >, <Residue ILE het=  resseq=256 icode= >, <Residue SER het=  resseq=257 icode= >, <Residue PRO het=  resseq=258 icode= >, <Residue ILE het=  resseq=259 icode= >, <Residue GLY het=  resseq=260 icode= >, <Residue CYS het=  resseq=261 icode= >, <Residue LEU het=  resseq=262 icode= >, <Residue PRO het=  resseq=263 icode= >, <Residue ALA het=  resseq=264 icode= >, <Residue HIS het=  resseq=265 icode= >, <Residue LEU het=  resseq=266 icode= >, <Residue LEU het=  resseq=267 icode= >, <Residue GLY het=  resseq=268 icode= >, <Residue ASP het=  resseq=269 icode= >, <Residue MET het=  resseq=270 icode= >, <Residue TRP het=  resseq=271 icode= >, <Residue GLY het=  resseq=272 icode= >, <Residue ARG het=  resseq=273 icode= >, <Residue PHE het=  resseq=274 icode= >, <Residue TRP het=  resseq=275 icode= >, <Residue THR het=  resseq=276 icode= >, <Residue ASN het=  resseq=277 icode= >, <Residue LEU het=  resseq=278 icode= >, <Residue TYR het=  resseq=279 icode= >, <Residue SER het=  resseq=280 icode= >, <Residue LEU het=  resseq=281 icode= >, <Residue THR het=  resseq=282 icode= >, <Residue VAL het=  resseq=283 icode= >, <Residue PRO het=  resseq=284 icode= >, <Residue PHE het=  resseq=285 icode= >, <Residue GLY het=  resseq=286 icode= >, <Residue GLN het=  resseq=287 icode= >, <Residue LYS het=  resseq=288 icode= >, <Residue PRO het=  resseq=289 icode= >, <Residue ASN het=  resseq=290 icode= >, <Residue ILE het=  resseq=291 icode= >, <Residue ASP het=  resseq=292 icode= >, <Residue VAL het=  resseq=293 icode= >, <Residue THR het=  resseq=294 icode= >, <Residue ASP het=  resseq=295 icode= >, <Residue ALA het=  resseq=296 icode= >, <Residue MET het=  resseq=297 icode= >, <Residue VAL het=  resseq=298 icode= >, <Residue ASP het=  resseq=299 icode= >, <Residue GLN het=  resseq=300 icode= >, <Residue ALA het=  resseq=301 icode= >, <Residue TRP het=  resseq=302 icode= >, <Residue ASP het=  resseq=303 icode= >, <Residue ALA het=  resseq=304 icode= >, <Residue GLN het=  resseq=305 icode= >, <Residue ARG het=  resseq=306 icode= >, <Residue ILE het=  resseq=307 icode= >, <Residue PHE het=  resseq=308 icode= >, <Residue LYS het=  resseq=309 icode= >, <Residue GLU het=  resseq=310 icode= >, <Residue ALA het=  resseq=311 icode= >, <Residue GLU het=  resseq=312 icode= >, <Residue LYS het=  resseq=313 icode= >, <Residue PHE het=  resseq=314 icode= >, <Residue PHE het=  resseq=315 icode= >, <Residue VAL het=  resseq=316 icode= >, <Residue SER het=  resseq=317 icode= >, <Residue VAL het=  resseq=318 icode= >, <Residue GLY het=  resseq=319 icode= >, <Residue LEU het=  resseq=320 icode= >, <Residue PRO het=  resseq=321 icode= >, <Residue ASN het=  resseq=322 icode= >, <Residue MET het=  resseq=323 icode= >, <Residue THR het=  resseq=324 icode= >, <Residue GLN het=  resseq=325 icode= >, <Residue GLY het=  resseq=326 icode= >, <Residue PHE het=  resseq=327 icode= >, <Residue TRP het=  resseq=328 icode= >, <Residue GLU het=  resseq=329 icode= >, <Residue ASN het=  resseq=330 icode= >, <Residue SER het=  resseq=331 icode= >, <Residue MET het=  resseq=332 icode= >, <Residue LEU het=  resseq=333 icode= >, <Residue THR het=  resseq=334 icode= >, <Residue ASP het=  resseq=335 icode= >, <Residue PRO het=  resseq=336 icode= >, <Residue GLY het=  resseq=337 icode= >, <Residue ASN het=  resseq=338 icode= >, <Residue VAL het=  resseq=339 icode= >, <Residue GLN het=  resseq=340 icode= >, <Residue LYS het=  resseq=341 icode= >, <Residue ALA het=  resseq=342 icode= >, <Residue VAL het=  resseq=343 icode= >, <Residue CYS het=  resseq=344 icode= >, <Residue HIS het=  resseq=345 icode= >, <Residue PRO het=  resseq=346 icode= >, <Residue THR het=  resseq=347 icode= >, <Residue ALA het=  resseq=348 icode= >, <Residue TRP het=  resseq=349 icode= >, <Residue ASP het=  resseq=350 icode= >, <Residue LEU het=  resseq=351 icode= >, <Residue GLY het=  resseq=352 icode= >, <Residue LYS het=  resseq=353 icode= >, <Residue GLY het=  resseq=354 icode= >, <Residue ASP het=  resseq=355 icode= >, <Residue PHE het=  resseq=356 icode= >, <Residue ARG het=  resseq=357 icode= >, <Residue ILE het=  resseq=358 icode= >, <Residue LEU het=  resseq=359 icode= >, <Residue MET het=  resseq=360 icode= >, <Residue CYS het=  resseq=361 icode= >, <Residue THR het=  resseq=362 icode= >, <Residue LYS het=  resseq=363 icode= >, <Residue VAL het=  resseq=364 icode= >, <Residue THR het=  resseq=365 icode= >, <Residue MET het=  resseq=366 icode= >, <Residue ASP het=  resseq=367 icode= >, <Residue ASP het=  resseq=368 icode= >, <Residue PHE het=  resseq=369 icode= >, <Residue LEU het=  resseq=370 icode= >, <Residue THR het=  resseq=371 icode= >, <Residue ALA het=  resseq=372 icode= >, <Residue HIS het=  resseq=373 icode= >, <Residue HIS het=  resseq=374 icode= >, <Residue GLU het=  resseq=375 icode= >, <Residue MET het=  resseq=376 icode= >, <Residue GLY het=  resseq=377 icode= >, <Residue HIS het=  resseq=378 icode= >, <Residue ILE het=  resseq=379 icode= >, <Residue GLN het=  resseq=380 icode= >, <Residue TYR het=  resseq=381 icode= >, <Residue ASP het=  resseq=382 icode= >, <Residue MET het=  resseq=383 icode= >, <Residue ALA het=  resseq=384 icode= >, <Residue TYR het=  resseq=385 icode= >, <Residue ALA het=  resseq=386 icode= >, <Residue ALA het=  resseq=387 icode= >, <Residue GLN het=  resseq=388 icode= >, <Residue PRO het=  resseq=389 icode= >, <Residue PHE het=  resseq=390 icode= >, <Residue LEU het=  resseq=391 icode= >, <Residue LEU het=  resseq=392 icode= >, <Residue ARG het=  resseq=393 icode= >, <Residue ASN het=  resseq=394 icode= >, <Residue GLY het=  resseq=395 icode= >, <Residue ALA het=  resseq=396 icode= >, <Residue ASN het=  resseq=397 icode= >, <Residue GLU het=  resseq=398 icode= >, <Residue GLY het=  resseq=399 icode= >, <Residue PHE het=  resseq=400 icode= >, <Residue HIS het=  resseq=401 icode= >, <Residue GLU het=  resseq=402 icode= >, <Residue ALA het=  resseq=403 icode= >, <Residue VAL het=  resseq=404 icode= >, <Residue GLY het=  resseq=405 icode= >, <Residue GLU het=  resseq=406 icode= >, <Residue ILE het=  resseq=407 icode= >, <Residue MET het=  resseq=408 icode= >, <Residue SER het=  resseq=409 icode= >, <Residue LEU het=  resseq=410 icode= >, <Residue SER het=  resseq=411 icode= >, <Residue ALA het=  resseq=412 icode= >, <Residue ALA het=  resseq=413 icode= >, <Residue THR het=  resseq=414 icode= >, <Residue PRO het=  resseq=415 icode= >, <Residue LYS het=  resseq=416 icode= >, <Residue HIS het=  resseq=417 icode= >, <Residue LEU het=  resseq=418 icode= >, <Residue LYS het=  resseq=419 icode= >, <Residue SER het=  resseq=420 icode= >, <Residue ILE het=  resseq=421 icode= >, <Residue GLY het=  resseq=422 icode= >, <Residue LEU het=  resseq=423 icode= >, <Residue LEU het=  resseq=424 icode= >, <Residue SER het=  resseq=425 icode= >, <Residue PRO het=  resseq=426 icode= >, <Residue ASP het=  resseq=427 icode= >, <Residue PHE het=  resseq=428 icode= >, <Residue GLN het=  resseq=429 icode= >, <Residue GLU het=  resseq=430 icode= >, <Residue ASP het=  resseq=431 icode= >, <Residue ASN het=  resseq=432 icode= >, <Residue GLU het=  resseq=433 icode= >, <Residue THR het=  resseq=434 icode= >, <Residue GLU het=  resseq=435 icode= >, <Residue ILE het=  resseq=436 icode= >, <Residue ASN het=  resseq=437 icode= >, <Residue PHE het=  resseq=438 icode= >, <Residue LEU het=  resseq=439 icode= >, <Residue LEU het=  resseq=440 icode= >, <Residue LYS het=  resseq=441 icode= >, <Residue GLN het=  resseq=442 icode= >, <Residue ALA het=  resseq=443 icode= >, <Residue LEU het=  resseq=444 icode= >, <Residue THR het=  resseq=445 icode= >, <Residue ILE het=  resseq=446 icode= >, <Residue VAL het=  resseq=447 icode= >, <Residue GLY het=  resseq=448 icode= >, <Residue THR het=  resseq=449 icode= >, <Residue LEU het=  resseq=450 icode= >, <Residue PRO het=  resseq=451 icode= >, <Residue PHE het=  resseq=452 icode= >, <Residue THR het=  resseq=453 icode= >, <Residue TYR het=  resseq=454 icode= >, <Residue MET het=  resseq=455 icode= >, <Residue LEU het=  resseq=456 icode= >, <Residue GLU het=  resseq=457 icode= >, <Residue LYS het=  resseq=458 icode= >, <Residue TRP het=  resseq=459 icode= >, <Residue ARG het=  resseq=460 icode= >, <Residue TRP het=  resseq=461 icode= >, <Residue MET het=  resseq=462 icode= >, <Residue VAL het=  resseq=463 icode= >, <Residue PHE het=  resseq=464 icode= >, <Residue LYS het=  resseq=465 icode= >, <Residue GLY het=  resseq=466 icode= >, <Residue GLU het=  resseq=467 icode= >, <Residue ILE het=  resseq=468 icode= >, <Residue PRO het=  resseq=469 icode= >, <Residue LYS het=  resseq=470 icode= >, <Residue ASP het=  resseq=471 icode= >, <Residue GLN het=  resseq=472 icode= >, <Residue TRP het=  resseq=473 icode= >, <Residue MET het=  resseq=474 icode= >, <Residue LYS het=  resseq=475 icode= >, <Residue LYS het=  resseq=476 icode= >, <Residue TRP het=  resseq=477 icode= >, <Residue TRP het=  resseq=478 icode= >, <Residue GLU het=  resseq=479 icode= >, <Residue MET het=  resseq=480 icode= >, <Residue LYS het=  resseq=481 icode= >, <Residue ARG het=  resseq=482 icode= >, <Residue GLU het=  resseq=483 icode= >, <Residue ILE het=  resseq=484 icode= >, <Residue VAL het=  resseq=485 icode= >, <Residue GLY het=  resseq=486 icode= >, <Residue VAL het=  resseq=487 icode= >, <Residue VAL het=  resseq=488 icode= >, <Residue GLU het=  resseq=489 icode= >, <Residue PRO het=  resseq=490 icode= >, <Residue VAL het=  resseq=491 icode= >, <Residue PRO het=  resseq=492 icode= >, <Residue HIS het=  resseq=493 icode= >, <Residue ASP het=  resseq=494 icode= >, <Residue GLU het=  resseq=495 icode= >, <Residue THR het=  resseq=496 icode= >, <Residue TYR het=  resseq=497 icode= >, <Residue CYS het=  resseq=498 icode= >, <Residue ASP het=  resseq=499 icode= >, <Residue PRO het=  resseq=500 icode= >, <Residue ALA het=  resseq=501 icode= >, <Residue SER het=  resseq=502 icode= >, <Residue LEU het=  resseq=503 icode= >, <Residue PHE het=  resseq=504 icode= >, <Residue HIS het=  resseq=505 icode= >, <Residue VAL het=  resseq=506 icode= >, <Residue SER het=  resseq=507 icode= >, <Residue ASN het=  resseq=508 icode= >, <Residue ASP het=  resseq=509 icode= >, <Residue TYR het=  resseq=510 icode= >, <Residue SER het=  resseq=511 icode= >, <Residue PHE het=  resseq=512 icode= >, <Residue ILE het=  resseq=513 icode= >, <Residue ARG het=  resseq=514 icode= >, <Residue TYR het=  resseq=515 icode= >, <Residue TYR het=  resseq=516 icode= >, <Residue THR het=  resseq=517 icode= >, <Residue ARG het=  resseq=518 icode= >, <Residue THR het=  resseq=519 icode= >, <Residue LEU het=  resseq=520 icode= >, <Residue TYR het=  resseq=521 icode= >, <Residue GLN het=  resseq=522 icode= >, <Residue PHE het=  resseq=523 icode= >, <Residue GLN het=  resseq=524 icode= >, <Residue PHE het=  resseq=525 icode= >, <Residue GLN het=  resseq=526 icode= >, <Residue GLU het=  resseq=527 icode= >, <Residue ALA het=  resseq=528 icode= >, <Residue LEU het=  resseq=529 icode= >, <Residue CYS het=  resseq=530 icode= >, <Residue GLN het=  resseq=531 icode= >, <Residue ALA het=  resseq=532 icode= >, <Residue ALA het=  resseq=533 icode= >, <Residue LYS het=  resseq=534 icode= >, <Residue HIS het=  resseq=535 icode= >, <Residue GLU het=  resseq=536 icode= >, <Residue GLY het=  resseq=537 icode= >, <Residue PRO het=  resseq=538 icode= >, <Residue LEU het=  resseq=539 icode= >, <Residue HIS het=  resseq=540 icode= >, <Residue LYS het=  resseq=541 icode= >, <Residue CYS het=  resseq=542 icode= >, <Residue ASP het=  resseq=543 icode= >, <Residue ILE het=  resseq=544 icode= >, <Residue SER het=  resseq=545 icode= >, <Residue ASN het=  resseq=546 icode= >, <Residue SER het=  resseq=547 icode= >, <Residue THR het=  resseq=548 icode= >, <Residue GLU het=  resseq=549 icode= >, <Residue ALA het=  resseq=550 icode= >, <Residue GLY het=  resseq=551 icode= >, <Residue GLN het=  resseq=552 icode= >, <Residue LYS het=  resseq=553 icode= >, <Residue LEU het=  resseq=554 icode= >, <Residue PHE het=  resseq=555 icode= >, <Residue ASN het=  resseq=556 icode= >, <Residue MET het=  resseq=557 icode= >, <Residue LEU het=  resseq=558 icode= >, <Residue ARG het=  resseq=559 icode= >, <Residue LEU het=  resseq=560 icode= >, <Residue GLY het=  resseq=561 icode= >, <Residue LYS het=  resseq=562 icode= >, <Residue SER het=  resseq=563 icode= >, <Residue GLU het=  resseq=564 icode= >, <Residue PRO het=  resseq=565 icode= >, <Residue TRP het=  resseq=566 icode= >, <Residue THR het=  resseq=567 icode= >, <Residue LEU het=  resseq=568 icode= >, <Residue ALA het=  resseq=569 icode= >, <Residue LEU het=  resseq=570 icode= >, <Residue GLU het=  resseq=571 icode= >, <Residue ASN het=  resseq=572 icode= >, <Residue VAL het=  resseq=573 icode= >, <Residue VAL het=  resseq=574 icode= >, <Residue GLY het=  resseq=575 icode= >, <Residue ALA het=  resseq=576 icode= >, <Residue LYS het=  resseq=577 icode= >, <Residue ASN het=  resseq=578 icode= >, <Residue MET het=  resseq=579 icode= >, <Residue ASN het=  resseq=580 icode= >, <Residue VAL het=  resseq=581 icode= >, <Residue ARG het=  resseq=582 icode= >, <Residue PRO het=  resseq=583 icode= >, <Residue LEU het=  resseq=584 icode= >, <Residue LEU het=  resseq=585 icode= >, <Residue ASN het=  resseq=586 icode= >, <Residue TYR het=  resseq=587 icode= >, <Residue PHE het=  resseq=588 icode= >, <Residue GLU het=  resseq=589 icode= >, <Residue PRO het=  resseq=590 icode= >, <Residue LEU het=  resseq=591 icode= >, <Residue PHE het=  resseq=592 icode= >, <Residue THR het=  resseq=593 icode= >, <Residue TRP het=  resseq=594 icode= >, <Residue LEU het=  resseq=595 icode= >, <Residue LYS het=  resseq=596 icode= >, <Residue ASP het=  resseq=597 icode= >, <Residue GLN het=  resseq=598 icode= >, <Residue ASN het=  resseq=599 icode= >, <Residue LYS het=  resseq=600 icode= >, <Residue ASN het=  resseq=601 icode= >, <Residue SER het=  resseq=602 icode= >, <Residue PHE het=  resseq=603 icode= >, <Residue VAL het=  resseq=604 icode= >, <Residue GLY het=  resseq=605 icode= >, <Residue TRP het=  resseq=606 icode= >, <Residue SER het=  resseq=607 icode= >, <Residue THR het=  resseq=608 icode= >, <Residue ASP het=  resseq=609 icode= >, <Residue TRP het=  resseq=610 icode= >, <Residue SER het=  resseq=611 icode= >, <Residue PRO het=  resseq=612 icode= >, <Residue TYR het=  resseq=613 icode= >, <Residue ALA het=  resseq=614 icode= >, <Residue NAG het=H_NAG resseq=701 icode= >, <Residue NAG het=H_NAG resseq=702 icode= >, <Residue NAG het=H_NAG resseq=703 icode= >, <Residue  ZN het=H_ ZN resseq=704 icode= >, <Residue HOH het=W resseq=801 icode= >, <Residue HOH het=W resseq=802 icode= >, <Residue HOH het=W resseq=803 icode= >, <Residue HOH het=W resseq=804 icode= >, <Residue HOH het=W resseq=805 icode= >, <Residue HOH het=W resseq=806 icode= >, <Residue HOH het=W resseq=807 icode= >, <Residue HOH het=W resseq=808 icode= >, <Residue HOH het=W resseq=809 icode= >, <Residue HOH het=W resseq=810 icode= >, <Residue HOH het=W resseq=811 icode= >, <Residue HOH het=W resseq=812 icode= >, <Residue HOH het=W resseq=813 icode= >, <Residue HOH het=W resseq=814 icode= >, <Residue HOH het=W resseq=815 icode= >, <Residue HOH het=W resseq=816 icode= >, <Residue HOH het=W resseq=817 icode= >, <Residue HOH het=W resseq=818 icode= >, <Residue HOH het=W resseq=819 icode= >, <Residue HOH het=W resseq=820 icode= >, <Residue HOH het=W resseq=821 icode= >, <Residue HOH het=W resseq=822 icode= >, <Residue HOH het=W resseq=823 icode= >, <Residue HOH het=W resseq=824 icode= >, <Residue HOH het=W resseq=825 icode= >, <Residue HOH het=W resseq=826 icode= >, <Residue HOH het=W resseq=827 icode= >, <Residue HOH het=W resseq=828 icode= >, <Residue HOH het=W resseq=829 icode= >, <Residue HOH het=W resseq=830 icode= >, <Residue HOH het=W resseq=831 icode= >, <Residue HOH het=W resseq=832 icode= >, <Residue HOH het=W resseq=833 icode= >, <Residue HOH het=W resseq=834 icode= >, <Residue HOH het=W resseq=835 icode= >, <Residue HOH het=W resseq=836 icode= >, <Residue HOH het=W resseq=837 icode= >, <Residue HOH het=W resseq=838 icode= >, <Residue HOH het=W resseq=839 icode= >, <Residue HOH het=W resseq=840 icode= >, <Residue HOH het=W resseq=841 icode= >, <Residue HOH het=W resseq=842 icode= >, <Residue HOH het=W resseq=843 icode= >, <Residue HOH het=W resseq=844 icode= >, <Residue HOH het=W resseq=845 icode= >, <Residue HOH het=W resseq=846 icode= >, <Residue HOH het=W resseq=847 icode= >, <Residue HOH het=W resseq=848 icode= >, <Residue HOH het=W resseq=849 icode= >, <Residue HOH het=W resseq=850 icode= >, <Residue HOH het=W resseq=851 icode= >, <Residue HOH het=W resseq=852 icode= >, <Residue HOH het=W resseq=853 icode= >, <Residue HOH het=W resseq=854 icode= >, <Residue HOH het=W resseq=855 icode= >, <Residue HOH het=W resseq=856 icode= >, <Residue HOH het=W resseq=857 icode= >, <Residue HOH het=W resseq=858 icode= >, <Residue HOH het=W resseq=859 icode= >, <Residue HOH het=W resseq=860 icode= >, <Residue HOH het=W resseq=861 icode= >, <Residue HOH het=W resseq=862 icode= >, <Residue HOH het=W resseq=863 icode= >, <Residue HOH het=W resseq=864 icode= >, <Residue HOH het=W resseq=865 icode= >, <Residue HOH het=W resseq=866 icode= >, <Residue HOH het=W resseq=867 icode= >, <Residue HOH het=W resseq=868 icode= >, <Residue HOH het=W resseq=869 icode= >, <Residue HOH het=W resseq=870 icode= >, <Residue HOH het=W resseq=871 icode= >, <Residue HOH het=W resseq=872 icode= >, <Residue HOH het=W resseq=873 icode= >, <Residue HOH het=W resseq=874 icode= >, <Residue HOH het=W resseq=875 icode= >, <Residue HOH het=W resseq=876 icode= >, <Residue HOH het=W resseq=877 icode= >, <Residue HOH het=W resseq=878 icode= >, <Residue HOH het=W resseq=879 icode= >, <Residue HOH het=W resseq=880 icode= >, <Residue HOH het=W resseq=881 icode= >, <Residue HOH het=W resseq=882 icode= >, <Residue HOH het=W resseq=883 icode= >, <Residue HOH het=W resseq=884 icode= >, <Residue HOH het=W resseq=885 icode= >, <Residue HOH het=W resseq=886 icode= >, <Residue HOH het=W resseq=887 icode= >, <Residue HOH het=W resseq=888 icode= >, <Residue HOH het=W resseq=889 icode= >, <Residue HOH het=W resseq=890 icode= >, <Residue HOH het=W resseq=891 icode= >, <Residue HOH het=W resseq=892 icode= >, <Residue HOH het=W resseq=893 icode= >, <Residue HOH het=W resseq=894 icode= >, <Residue HOH het=W resseq=895 icode= >, <Residue HOH het=W resseq=896 icode= >, <Residue HOH het=W resseq=897 icode= >, <Residue HOH het=W resseq=898 icode= >, <Residue HOH het=W resseq=899 icode= >, <Residue HOH het=W resseq=900 icode= >, <Residue HOH het=W resseq=901 icode= >, <Residue HOH het=W resseq=902 icode= >, <Residue HOH het=W resseq=903 icode= >, <Residue HOH het=W resseq=904 icode= >, <Residue HOH het=W resseq=905 icode= >, <Residue HOH het=W resseq=906 icode= >, <Residue HOH het=W resseq=907 icode= >, <Residue HOH het=W resseq=908 icode= >, <Residue HOH het=W resseq=909 icode= >, <Residue HOH het=W resseq=910 icode= >, <Residue HOH het=W resseq=911 icode= >, <Residue HOH het=W resseq=912 icode= >, <Residue HOH het=W resseq=913 icode= >, <Residue HOH het=W resseq=914 icode= >, <Residue HOH het=W resseq=915 icode= >, <Residue HOH het=W resseq=916 icode= >, <Residue HOH het=W resseq=917 icode= >, <Residue HOH het=W resseq=918 icode= >, <Residue HOH het=W resseq=919 icode= >, <Residue HOH het=W resseq=920 icode= >, <Residue HOH het=W resseq=921 icode= >, <Residue HOH het=W resseq=922 icode= >, <Residue HOH het=W resseq=923 icode= >, <Residue HOH het=W resseq=924 icode= >, <Residue HOH het=W resseq=925 icode= >, <Residue HOH het=W resseq=926 icode= >, <Residue HOH het=W resseq=927 icode= >, <Residue HOH het=W resseq=928 icode= >, <Residue HOH het=W resseq=929 icode= >, <Residue HOH het=W resseq=930 icode= >, <Residue HOH het=W resseq=931 icode= >, <Residue HOH het=W resseq=932 icode= >, <Residue HOH het=W resseq=933 icode= >, <Residue HOH het=W resseq=934 icode= >, <Residue HOH het=W resseq=935 icode= >, <Residue HOH het=W resseq=936 icode= >, <Residue HOH het=W resseq=937 icode= >, <Residue HOH het=W resseq=938 icode= >, <Residue HOH het=W resseq=939 icode= >, <Residue HOH het=W resseq=940 icode= >, <Residue HOH het=W resseq=941 icode= >, <Residue HOH het=W resseq=942 icode= >, <Residue HOH het=W resseq=943 icode= >, <Residue HOH het=W resseq=944 icode= >, <Residue HOH het=W resseq=945 icode= >, <Residue HOH het=W resseq=946 icode= >, <Residue HOH het=W resseq=947 icode= >, <Residue HOH het=W resseq=948 icode= >, <Residue HOH het=W resseq=949 icode= >, <Residue HOH het=W resseq=950 icode= >, <Residue HOH het=W resseq=951 icode= >, <Residue HOH het=W resseq=952 icode= >, <Residue HOH het=W resseq=953 icode= >, <Residue HOH het=W resseq=954 icode= >, <Residue HOH het=W resseq=955 icode= >, <Residue HOH het=W resseq=956 icode= >, <Residue HOH het=W resseq=957 icode= >, <Residue HOH het=W resseq=958 icode= >, <Residue HOH het=W resseq=959 icode= >, <Residue HOH het=W resseq=960 icode= >, <Residue HOH het=W resseq=961 icode= >, <Residue HOH het=W resseq=962 icode= >, <Residue HOH het=W resseq=963 icode= >, <Residue HOH het=W resseq=964 icode= >, <Residue HOH het=W resseq=965 icode= >, <Residue HOH het=W resseq=966 icode= >, <Residue HOH het=W resseq=967 icode= >, <Residue HOH het=W resseq=968 icode= >, <Residue HOH het=W resseq=969 icode= >, <Residue HOH het=W resseq=970 icode= >, <Residue HOH het=W resseq=971 icode= >, <Residue HOH het=W resseq=972 icode= >, <Residue HOH het=W resseq=973 icode= >, <Residue HOH het=W resseq=974 icode= >, <Residue HOH het=W resseq=975 icode= >, <Residue HOH het=W resseq=976 icode= >, <Residue HOH het=W resseq=977 icode= >, <Residue HOH het=W resseq=978 icode= >, <Residue HOH het=W resseq=979 icode= >, <Residue HOH het=W resseq=980 icode= >, <Residue HOH het=W resseq=981 icode= >, <Residue HOH het=W resseq=982 icode= >, <Residue HOH het=W resseq=983 icode= >, <Residue HOH het=W resseq=984 icode= >, <Residue HOH het=W resseq=985 icode= >, <Residue HOH het=W resseq=986 icode= >, <Residue HOH het=W resseq=987 icode= >, <Residue HOH het=W resseq=988 icode= >, <Residue HOH het=W resseq=989 icode= >, <Residue HOH het=W resseq=990 icode= >, <Residue HOH het=W resseq=991 icode= >, <Residue HOH het=W resseq=992 icode= >, <Residue HOH het=W resseq=993 icode= >, <Residue HOH het=W resseq=994 icode= >, <Residue HOH het=W resseq=995 icode= >, <Residue HOH het=W resseq=996 icode= >, <Residue HOH het=W resseq=997 icode= >, <Residue HOH het=W resseq=998 icode= >, <Residue HOH het=W resseq=999 icode= >, <Residue HOH het=W resseq=1000 icode= >, <Residue HOH het=W resseq=1001 icode= >, <Residue HOH het=W resseq=1002 icode= >, <Residue HOH het=W resseq=1003 icode= >, <Residue HOH het=W resseq=1004 icode= >, <Residue HOH het=W resseq=1005 icode= >, <Residue HOH het=W resseq=1006 icode= >, <Residue HOH het=W resseq=1007 icode= >, <Residue HOH het=W resseq=1008 icode= >, <Residue HOH het=W resseq=1009 icode= >, <Residue HOH het=W resseq=1010 icode= >, <Residue HOH het=W resseq=1011 icode= >, <Residue HOH het=W resseq=1012 icode= >, <Residue HOH het=W resseq=1013 icode= >, <Residue HOH het=W resseq=1014 icode= >, <Residue HOH het=W resseq=1015 icode= >, <Residue HOH het=W resseq=1016 icode= >, <Residue HOH het=W resseq=1017 icode= >, <Residue HOH het=W resseq=1018 icode= >, <Residue HOH het=W resseq=1019 icode= >, <Residue HOH het=W resseq=1020 icode= >, <Residue HOH het=W resseq=1021 icode= >, <Residue HOH het=W resseq=1022 icode= >, <Residue HOH het=W resseq=1023 icode= >, <Residue HOH het=W resseq=1024 icode= >, <Residue HOH het=W resseq=1025 icode= >, <Residue HOH het=W resseq=1026 icode= >, <Residue HOH het=W resseq=1027 icode= >, <Residue HOH het=W resseq=1028 icode= >, <Residue HOH het=W resseq=1029 icode= >, <Residue HOH het=W resseq=1030 icode= >, <Residue HOH het=W resseq=1031 icode= >, <Residue HOH het=W resseq=1032 icode= >, <Residue HOH het=W resseq=1033 icode= >, <Residue HOH het=W resseq=1034 icode= >, <Residue HOH het=W resseq=1035 icode= >, <Residue HOH het=W resseq=1036 icode= >, <Residue HOH het=W resseq=1037 icode= >, <Residue HOH het=W resseq=1038 icode= >, <Residue HOH het=W resseq=1039 icode= >, <Residue HOH het=W resseq=1040 icode= >, <Residue HOH het=W resseq=1041 icode= >, <Residue HOH het=W resseq=1042 icode= >, <Residue HOH het=W resseq=1043 icode= >, <Residue HOH het=W resseq=1044 icode= >, <Residue HOH het=W resseq=1045 icode= >, <Residue HOH het=W resseq=1046 icode= >, <Residue HOH het=W resseq=1047 icode= >, <Residue HOH het=W resseq=1048 icode= >, <Residue HOH het=W resseq=1049 icode= >, <Residue HOH het=W resseq=1050 icode= >, <Residue HOH het=W resseq=1051 icode= >, <Residue HOH het=W resseq=1052 icode= >, <Residue HOH het=W resseq=1053 icode= >, <Residue HOH het=W resseq=1054 icode= >, <Residue HOH het=W resseq=1055 icode= >, <Residue HOH het=W resseq=1056 icode= >, <Residue HOH het=W resseq=1057 icode= >, <Residue HOH het=W resseq=1058 icode= >, <Residue HOH het=W resseq=1059 icode= >, <Residue HOH het=W resseq=1060 icode= >, <Residue HOH het=W resseq=1061 icode= >, <Residue HOH het=W resseq=1062 icode= >, <Residue HOH het=W resseq=1063 icode= >, <Residue HOH het=W resseq=1064 icode= >, <Residue HOH het=W resseq=1065 icode= >]\n",
            "\n",
            "\n",
            "Rotran: (array([[-0.44307583,  0.48302915, -0.75522622],\n",
            "       [-0.28477852, -0.87463244, -0.39232548],\n",
            "       [-0.85005   ,  0.04124227,  0.52508482]]), array([ 1.13414363, 26.53177401, 48.67077405]))\n",
            "RMS:  3.3902228315493748\n"
          ],
          "name": "stdout"
        }
      ]
    }
  ]
}